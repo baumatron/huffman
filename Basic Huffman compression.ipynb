{
 "cells": [
  {
   "cell_type": "code",
   "execution_count": 387,
   "metadata": {
    "collapsed": false
   },
   "outputs": [],
   "source": [
    "import Queue\n",
    "from bitstring import BitArray, BitStream, ConstBitStream"
   ]
  },
  {
   "cell_type": "code",
   "execution_count": 388,
   "metadata": {
    "collapsed": true
   },
   "outputs": [],
   "source": [
    "pq = Queue.PriorityQueue()"
   ]
  },
  {
   "cell_type": "code",
   "execution_count": 389,
   "metadata": {
    "collapsed": true
   },
   "outputs": [],
   "source": [
    "symbols = [(100, 'a'), (50, 'b'), (75, 'c')]"
   ]
  },
  {
   "cell_type": "code",
   "execution_count": 390,
   "metadata": {
    "collapsed": false
   },
   "outputs": [],
   "source": [
    "for symbol in symbols:\n",
    "    pq.put(symbol)"
   ]
  },
  {
   "cell_type": "code",
   "execution_count": 391,
   "metadata": {
    "collapsed": false
   },
   "outputs": [],
   "source": [
    "class Node:\n",
    "    def __cmp__(self, other):\n",
    "        return cmp(self.count, other.count)\n",
    "\n",
    "class SymbolNode(Node):\n",
    "    def __init__(self, symbol, count):\n",
    "        self.left = None\n",
    "        self.right = None\n",
    "        self.symbol = symbol\n",
    "        self.count = count\n",
    "\n",
    "class ContainerNode(Node):\n",
    "    def __init__(self, left, right):\n",
    "        self.left = left\n",
    "        self.right = right\n",
    "        self.symbol = None\n",
    "        self.count = left.count + right.count"
   ]
  },
  {
   "cell_type": "code",
   "execution_count": 392,
   "metadata": {
    "collapsed": true
   },
   "outputs": [],
   "source": [
    "symbolQueue = Queue.PriorityQueue()\n",
    "\n",
    "for count, symbol in symbols:\n",
    "    symbolQueue.put(SymbolNode(symbol, count))"
   ]
  },
  {
   "cell_type": "code",
   "execution_count": 393,
   "metadata": {
    "collapsed": false
   },
   "outputs": [],
   "source": [
    "#while not symbolQueue.empty():\n",
    "#    print symbolQueue.get().symbol"
   ]
  },
  {
   "cell_type": "code",
   "execution_count": 394,
   "metadata": {
    "collapsed": true
   },
   "outputs": [],
   "source": [
    "# Takes a Queue.PriorityQueue that contains a flat list of SymbolNodes\n",
    "# and builds a huffman tree. Returns a ContainerNode at the root of the tree\n",
    "def generate_huffman_tree(symbolPriorityQueue):\n",
    "    while not symbolPriorityQueue.empty():\n",
    "        left = symbolPriorityQueue.get()\n",
    "        if not symbolPriorityQueue.empty():\n",
    "            right = symbolPriorityQueue.get()\n",
    "            container = ContainerNode(left, right)\n",
    "            symbolPriorityQueue.put(container)\n",
    "        else:\n",
    "            return left"
   ]
  },
  {
   "cell_type": "code",
   "execution_count": 395,
   "metadata": {
    "collapsed": false
   },
   "outputs": [],
   "source": [
    "def generate_huffman_coding_from_tree_internal(node, currentCode, symbolToIntCoding):\n",
    "    if not node.right is None:\n",
    "        generate_huffman_coding_from_tree_internal(node.right, currentCode + '1', symbolToIntCoding)\n",
    "    if not node.left is None:\n",
    "        generate_huffman_coding_from_tree_internal(node.left, currentCode + '0', symbolToIntCoding)\n",
    "    if not node.symbol is None:\n",
    "        print \"Coding for symbol {}: {}\".format(node.symbol, currentCode)\n",
    "        symbolToIntCoding[node.symbol] = currentCode\n",
    "    return symbolToIntCoding\n",
    "        \n",
    "def generate_huffman_coding_from_tree(tree):\n",
    "    return generate_huffman_coding_from_tree_internal(tree, '0b', {})\n"
   ]
  },
  {
   "cell_type": "code",
   "execution_count": 396,
   "metadata": {
    "collapsed": true
   },
   "outputs": [],
   "source": [
    "symbolQueue = Queue.PriorityQueue()\n",
    "\n",
    "for count, symbol in symbols:\n",
    "    symbolQueue.put(SymbolNode(symbol, count))\n",
    "\n",
    "tree = generate_huffman_tree(symbolQueue)"
   ]
  },
  {
   "cell_type": "code",
   "execution_count": 397,
   "metadata": {
    "collapsed": false
   },
   "outputs": [
    {
     "name": "stdout",
     "output_type": "stream",
     "text": [
      "<__main__.ContainerNode instance at 0x111d6fab8>\n"
     ]
    }
   ],
   "source": [
    "print tree"
   ]
  },
  {
   "cell_type": "code",
   "execution_count": 398,
   "metadata": {
    "collapsed": false
   },
   "outputs": [
    {
     "name": "stdout",
     "output_type": "stream",
     "text": [
      "Coding for symbol c: 0b11\n",
      "Coding for symbol b: 0b10\n",
      "Coding for symbol a: 0b0\n",
      "{'a': '0b0', 'c': '0b11', 'b': '0b10'}\n"
     ]
    }
   ],
   "source": [
    "symbolToIntCoding = generate_huffman_coding_from_tree(tree)\n",
    "print symbolToIntCoding\n",
    "intToSymbolCoding = {v: k for k, v in symbolToIntCoding.items()}"
   ]
  },
  {
   "cell_type": "code",
   "execution_count": 399,
   "metadata": {
    "collapsed": false
   },
   "outputs": [
    {
     "data": {
      "text/plain": [
       "{'a': '0b0', 'b': '0b10', 'c': '0b11'}"
      ]
     },
     "execution_count": 399,
     "metadata": {},
     "output_type": "execute_result"
    }
   ],
   "source": [
    "symbolToIntCoding"
   ]
  },
  {
   "cell_type": "code",
   "execution_count": 400,
   "metadata": {
    "collapsed": false
   },
   "outputs": [
    {
     "data": {
      "text/plain": [
       "{'0b0': 'a', '0b10': 'b', '0b11': 'c'}"
      ]
     },
     "execution_count": 400,
     "metadata": {},
     "output_type": "execute_result"
    }
   ],
   "source": [
    "intToSymbolCoding"
   ]
  },
  {
   "cell_type": "code",
   "execution_count": 401,
   "metadata": {
    "collapsed": false,
    "scrolled": true
   },
   "outputs": [
    {
     "data": {
      "text/plain": [
       "'Toledo War\\nFrom Wikipedia, the free encyclopedia\\nToledo War\\nDisputed Toledo Strip.png\\nThe portion of the Michigan Territory claimed by the State of Ohio known as the Toledo Strip\\nDate\\t1835\\xe2\\x80\\x931836\\nLocation\\tMichigan Territory, primarily near Toledo, Ohio\\nResult\\tMilitary stalemate\\nTerritorial\\nchanges\\tOhio gains control of the Toledo Strip\\nBelligerents\\nOhio militia\\tTerritory of Michigan militia\\nCommanders and leaders\\nRobert Lucas\\nJohn Bell\\tStevens T. Mason\\nJoseph W. Brown\\nStrength\\n600\\t1,000\\nCasualties and losses\\nnone\\t1 wounded\\nIn exchange for ceding the Toledo Strip, all of what is now known as the Upper Peninsula was included within Michigan\\'s bounds when it was admitted into the Union in 1837 (Only the eastern most portion of the peninsula had been claimed in Michigan\\'s 1835 statehood petition).\\nThe Toledo War (1835\\xe2\\x80\\x9336), also known as the Michigan\\xe2\\x80\\x93Ohio War, was the almost bloodless boundary dispute between the U.S. state of Ohio and the adjoining territory of Michigan.\\n\\nOriginating from conflicting state and federal legislation passed between 1787 and 1805, the dispute resulted from poor understanding of geographical features of the Great Lakes at the time. Varying interpretations of the law caused the governments of Ohio and Michigan to both claim sovereignty over a 468-square-mile (1,210 km2) region along the border, now known as the Toledo Strip. When Michigan petitioned for statehood in 1835, it sought to include the disputed territory within its boundaries; Ohio\\'s congressional delegation was in turn able to stall Michigan\\'s admission to the Union.\\n\\nBeginning in 1835, both sides passed legislation attempting to force the other side\\'s capitulation. Ohio\\'s governor Robert Lucas and Michigan\\'s 24-year-old \"Boy Governor\" Stevens T. Mason were both unwilling to cede jurisdiction of the Strip, so they raised militias and helped institute criminal penalties for citizens submitting to the other\\'s authority. The militias were mobilized and sent to positions on opposite sides of the Maumee River near Toledo, but besides mutual taunting there was little interaction between the two forces. The single military confrontation of the \"war\" ended with a report of shots being fired into the air, incurring no casualties.\\n\\nDuring the summer of 1836, Congress proposed a compromise whereby Michigan gave up its claim to the strip in exchange for its statehood and approximately three-quarters of the Upper Peninsula. The compromise was considered a poor outcome for Michigan; nearly all of the Upper Peninsula was still Indian territory at the time. Voters in a state convention in September soundly rejected the proposal.\\n\\nIn December 1836, the Michigan government, facing a dire financial crisis and pressure from Congress and President Andrew Jackson, called another convention (called the \"Frostbitten Convention\") which accepted the compromise that resolved the Toledo War. The later discovery of copper and iron deposits and the plentiful timber in the Upper Peninsula more than offset Michigan\\'s economic loss in surrendering Toledo.\\n\\nContents  [hide]\\n1\\tOrigins\\n2\\tCreation of the Toledo Strip\\n2.1\\tEconomic significance\\n3\\tPrelude to conflict\\n4\\tWar\\n4.1\\tPresidential intervention\\n4.2\\tBattle of Phillips Corners\\n4.3\\tBloodshed in the summer of 1835\\n4.4\\tFrostbitten Convention and the end of the Toledo War\\n5\\tSubsequent history\\n6\\tSee also\\n7\\tReferences\\n8\\tFurther reading\\nOrigins[edit]\\n\\nMap of the Northwest Territory as established by the U.S. Congress in the Northwest Ordinance, shown with present-day state borders, and correct spatial relationship between Lakes Michigan and Erie\\nIn 1787, the Congress of the Confederation enacted the Northwest Ordinance, which created the Northwest Territory in what is now the upper Midwestern United States. The Ordinance specified that the territory was eventually to be divided into \"not less than three nor more than five\" future states. It was determined that the north-south boundary for three of these states was to be \"an east and west line drawn through the southerly bend or extreme of Lake Michigan.\"[1]\\n\\n\\n\"Mitchell Map\" of the region, from the late 1700s, used to create the Ordinance Line of 1787. Note that the southern tip of Lake Michigan is depicted as being farther north than Lake Erie.\\nAt the time, the actual location of this extreme was unknown. The most highly regarded map of the time, the \"Mitchell Map\",[2] placed it at a latitude near the mouth of the Detroit River. This meant that the entire shoreline of Lake Erie west of Pennsylvania would have belonged to the state that was to become Ohio.[3] When Congress passed the Enabling Act of 1802, which authorized Ohio to begin the process of becoming a U.S. state, the language defining Ohio\\'s northern boundary differed slightly from that used in the Northwest Ordinance: the border was to be \"an east and west line drawn through the southern extreme of Lake Michigan, running east ... until it shall intersect Lake Erie or the territorial line [with Canada]; thence with the same, through Lake Erie to the Pennsylvania line aforesaid.\"[4]\\n\\nBecause the territorial boundary line between the U.S. and Canada ran through the middle of Lake Erie and then up the Detroit River, combined with the prevailing belief regarding the location of the southern tip of Lake Michigan, the framers of the 1802 Ohio Constitution believed it was the intent of Congress that Ohio\\'s northern boundary should certainly be north of the mouth of the Maumee River, and possibly even of the Detroit River. Ohio would thus be granted access to most or all of the Lake Erie shoreline west of Pennsylvania, and any other new states carved out of the Northwest Territory would have access to the Great Lakes via Lakes Michigan, Huron, and Superior.[5]\\n\\n\\tWikisource has original text related to this article:\\nThe Northwest Ordinance\\n\\tWikisource has original text related to this article:\\nEnabling act for Ohio 1802\\nDuring the Ohio Constitutional Convention in 1802, the delegates allegedly received reports from a fur trapper that Lake Michigan extended significantly farther south than had previously been believed (or mapped). Thus, it was possible that an east-west line extending east from Lake Michigan\\'s southern tip may have intersected Lake Erie somewhere east of Maumee Bay, or worse, may not have intersected the lake at all; the farther south that Lake Michigan actually extended, the more land Ohio would lose, perhaps even the entire Lake Erie shoreline west of Pennsylvania.[5]\\n\\n\\tWikisource has original text related to this article:\\nOhio Constitution of 1802\\nAddressing this contingency, the Ohio delegates included a provision in the draft Ohio constitution that if the trapper\\'s report about Lake Michigan\\'s position was correct, the state boundary line would be angled slightly northeast so as to intersect Lake Erie at the \"most northerly cape of the Miami [Maumee] Bay.\" This provision would guarantee that most of the Maumee River watershed and all of the southern shore of Lake Erie west of Pennsylvania would fall in Ohio.[5] The draft constitution with this proviso was accepted by the United States Congress, but before Ohio\\'s admission to the Union in February 1803, the proposed constitution was referred to a Congressional committee. The committee\\'s report stated that the clause defining the northern boundary depended on \"a fact not yet ascertained\" (the latitude of the southern extreme of Lake Michigan), and the members \"thought it unnecessary to take it [the provision], at the time, into consideration.\"[6]\\n\\nWhen Congress created the Michigan Territory in 1805, it used the Northwest Ordinance\\'s language to define the territory\\'s southern boundary, which therefore differed from that in Ohio\\'s state constitution. This difference, and its potential ramifications, apparently went unnoticed at the time, but it established the legal basis for the conflict that would erupt 30 years later.[5]\\n\\nCreation of the Toledo Strip[edit]\\n\\nMichigan Territory governor, Lewis Cass (1813\\xe2\\x80\\x931831)\\n\\nFormer Ohio Governor and U.S. Surveyor General Edward Tiffin who commissioned the Harris Line survey.\\nThe location of the border was contested throughout the early 19th century. Residents of the Port of Miami\\xe2\\x80\\x94which would later become Toledo\\xe2\\x80\\x94urged the Ohio government to resolve the border issue. The Ohio legislature, in turn, passed repeated resolutions and requests asking Congress to take up the matter. In 1812, Congress approved a request for an official survey of the line.[7] Delayed because of the War of 1812, it was only after Indiana\\'s admission to the Union in 1816 that work on the survey commenced. U.S. Surveyor General Edward Tiffin, who was in charge of the survey, was a former Ohio governor. As a result, Tiffin employed surveyor William Harris to survey not the Ordinance Line, but the line as described in the Ohio Constitution of 1802. When completed, the \"Harris Line\" placed the mouth of the Maumee River completely in Ohio.[8] When the results of the survey were made public, Michigan territorial governor Lewis Cass was unhappy, since it was not based on the Congressionally approved Ordinance Line. In a letter to Tiffin, Cass stated that the Ohio-biased survey \"is only adding strength to the strong, and making the weak still weaker.\"[9]\\n\\nIn response, Michigan commissioned a second survey that was carried out by John A. Fulton. The Fulton survey was based upon the original 1787 Ordinance Line, and after measuring the line eastward from Lake Michigan to Lake Erie, it found the Ohio boundary to lie south of the mouth of the Maumee River.[10] The region between the Harris and Fulton survey lines formed what is now known as the \"Toledo Strip.\" This ribbon of land between northern Ohio and southern Michigan spanned a region five to eight miles (8 to 13 km) wide, over which both jurisdictions claimed sovereignty. While Ohio refused to cede its claim, Michigan quietly occupied it for the next several years, setting up local governments, building roads, and collecting taxes throughout the area.[9]\\n\\nEconomic significance[edit]\\nThe land known as the Toledo Strip was and still is a commercially important area. Prior to the rise of the railroad industry, rivers and canals were the major \"highways of commerce\" in the American Midwest.[11] A small but important part of the Strip\\xe2\\x80\\x94the area around present day Toledo and Maumee Bay\\xe2\\x80\\x94fell within the Great Black Swamp, and this area was nearly impossible to navigate by road, especially after spring and summer rains.[12] Draining into Lake Erie, the Maumee River was not necessarily well-suited for large ships, but it did provide an easy connection to Indiana\\'s Fort Wayne.[11] At the time, there were plans to connect the Mississippi River and the Great Lakes through a series of canals. One such canal system approved by the Ohio legislature in 1825 was the Miami and Erie Canal that included a connection to the Ohio River and an outflow into Lake Erie via the Maumee River.[8]\\n\\nDuring the conflict over the Toledo Strip, the Erie Canal was built, linking New York City and the Eastern seaboard to the Great Lakes at Buffalo. The canal, finished in 1825, immediately became a major route for trade and migration. Corn and other farm products from the Midwest were able to be shipped to eastern markets for much less expense than the older route along the Mississippi River. In addition, the migration of settlers to the Midwest increased sharply after the canal was finished, making existing port cities such as Buffalo boomtowns.[13]\\n\\nThe success of the Erie Canal inspired many other canal projects. Because the western end of Lake Erie offered the shortest overland route to the frontiers of Indiana and Illinois, Maumee Harbor was seen as a site of immediate importance and great value. Detroit was twenty miles (32 km) up the Detroit River from Lake Erie, and faced the difficult barrier of the Great Black Swamp to the south. Because of this, Detroit was less suited to new transportation projects such as canals, and later railroads, than was Toledo. From this perspective on the rapidly developing Midwest of the 1820s and 1830s, both states had much to gain by controlling the land in the Toledo Strip.[13]\\n\\nIn addition, the Strip west of the Toledo area is a prime location for agriculture, because of its well-drained, fertile loam soil. The area had for many years been characterized by high per-acre productivities of corn and wheat.[12] Michigan and Ohio both wanted what seemed strategically and economically destined to become an important port and a prosperous region.[11]\\n\\nPrelude to conflict[edit]\\n\\nOhio governor Robert Lucas (1832\\xe2\\x80\\x931836)\\nIn 1820\\xe2\\x80\\x931821, the federal land surveys had reached the disputed area from two directions, progressing southward from a baseline in Michigan and northward from one in Ohio. For unknown reasons, Surveyor General Tiffin ordered the two surveys to close on the Northwest Ordinance (Fulton) line, rather than Harris\\' line, perhaps lending implicit support to Michigan\\'s claims over Ohio\\'s.[14] Thus, townships that were established north of the line assumed they were part of Michigan Territory. By the early 1820s, the growing territory reached the minimum population threshold of 60,000 to qualify for statehood. However, when Michigan sought to hold a state constitutional convention in 1833, Congress rejected the request because of the still disputed Toledo Strip.[10]\\n\\n\\nMichigan Territory Governor Stevens T. Mason (1832\\xe2\\x80\\x931839)\\nOhio asserted that the boundary was firmly established in its constitution and thus Michigan\\'s citizens were simply intruders; the state government refused to negotiate the issue with the Michigan Territory. The Ohio Congressional delegation was active in blocking Michigan from attaining statehood, lobbying other states to vote against Michigan. In January 1835, frustrated by the political stalemate, Michigan\\'s acting territorial Governor Stevens T. Mason called for a constitutional convention to be held in May of that year despite Congress\\' refusal to approve an enabling act authorizing such a state constitution.[15]\\n\\nIn February 1835, Ohio passed legislation that set up county governments in the Strip. The county in which Toledo sat would, later in 1835, be named after incumbent Governor Robert Lucas, a move that further exacerbated the growing tensions with Michigan. Also, during this period, Ohio attempted to use its power in Congress to revive a previously rejected boundary bill that would formally set the state border to be the Harris Line.[16]\\n\\nMichigan, led by the young and hot-headed Mason, responded with the passage of the Pains and Penalties Act just six days after Lucas County was formed; the act made it a criminal offense for Ohioans to carry out governmental actions in the Strip, under penalty of a fine up to $1,000 and/or up to five years imprisonment at hard labor.[17][18] Acting as commander-in-chief of the territory, Mason appointed Brigadier-General Joseph W. Brown of the Third U.S. Brigade to head the state militia, with the instructions to be ready to act against Ohio trespassers. Lucas obtained legislative approval for a militia of his own, and he soon sent forces to the Strip area. The Toledo War had begun.[10]\\n\\nFormer United States President John Quincy Adams, who at the time represented Massachusetts in Congress, backed Michigan\\'s claim. In 1833, when Congress rejected Michigan\\'s request for a convention, Adams summed up his opinion on the dispute: \"Never in the course of my life have I known a controversy of which all the right was so clearly on one side and all the power so overwhelmingly on the other.\"[19]\\n\\nWar[edit]\\n\\nU.S. President Andrew Jackson, who sided with Ohio in the conflict and dismissed Mason as governor.\\nActing as commander-in-chief of Ohio\\'s militia, Governor Lucas\\xe2\\x80\\x94along with General John Bell and about 600 other fully armed militiamen\\xe2\\x80\\x94arrived in Perrysburg, Ohio, ten miles (16 km) southwest of Toledo, on March 31, 1835.[20] Shortly thereafter, Governor Mason and General Brown arrived to occupy the city of Toledo proper with around 1,000 armed men, intending to prevent Ohio advances into the Toledo area as well as stopping further border marking from taking place.[21]\\n\\nPresidential intervention[edit]\\nIn a desperate attempt to prevent armed battle and to avert the resulting political crisis, U.S. President Andrew Jackson consulted his Attorney General, Benjamin Butler, for his legal opinion on the border dispute. At the time, Ohio was a growing political power in the Union, with nineteen U.S. representatives and two senators. In contrast, Michigan, still being a territory, had only a single non-voting delegate. Ohio was a crucial swing state in presidential elections, and it would have been devastating to the fledgling Democratic Party to lose Ohio\\'s electoral votes. Therefore, Jackson calculated that his party\\'s best interest would be served by keeping the Toledo Strip a part of Ohio.[22]\\n\\nThe response that Jackson received from Butler was unexpected: the Attorney General held that until Congress dictated otherwise, the land rightfully belonged to Michigan. This presented a political dilemma for Jackson that spurred him to take action that would greatly influence the outcome of the \"war\".[22]\\n\\n\\nRichard Rush of Pennsylvania, a representative of President Jackson who helped to present a compromise to both governors.\\nOn April 3, 1835, Jackson sent two representatives from Washington, D.C., Richard Rush of Pennsylvania and Benjamin Chew Howard of Maryland, to Toledo to arbitrate the conflict and present a compromise to both governments. The proposal, presented on April 7, recommended that the re-survey to mark the Harris Line commence without further interruption by Michigan, and that the residents of the affected region be allowed to choose their own state or territorial governments until the Congress could definitively settle the matter.[23]\\n\\nLucas reluctantly agreed to the proposal, and began to disband his militia, believing the debate to be settled. Three days later, elections in the region were held under Ohio law. However, Mason refused the deal and he continued to prepare for possible armed conflict.[23][24]\\n\\nDuring the elections, Ohio officials were harassed by Michigan authorities and the area residents were threatened with arrest if they submitted to Ohio\\'s authority.[25] On April 8, 1835, the Monroe County, Michigan sheriff arrived at the home of Major Benjamin F. Stickney, an Ohio partisan. In the first contact between Michigan partisans and the Stickney family, the sheriff arrested two Ohioans under the Pains and Penalties Act on the basis that the men had voted in the Ohio elections.[26]\\n\\nBattle of Phillips Corners[edit]\\n\\nA box labeled \"Toledo, Mi\" that may have been used by the Michigan Militia during the Toledo War.\\nFollowing the election, Lucas believed that the commissioners\\' actions had alleviated the situation and he once again sent out surveyors to mark the Harris Line. The project went without serious incident until April 26, 1835, when the surveying group was attacked by fifty to sixty members of General Brown\\'s militia in what is now called the \"Battle of Phillips Corners\".[22][27] The battle\\'s name is sometimes used as a synonym for the entire Toledo War.\\n\\n\\nSite of the Battle of Phillips Corners\\nSurveyors wrote to Lucas afterwards that while observing \"the blessings of the Sabbath,\" Michigan militia forces advised them to retreat. In the ensuing chase, \"nine of our men, who did not leave the ground in time after being fired upon by the enemy, from thirty to fifty shots, were taken prisoners and carried away into [Tecumseh].\"[28] While the details of the attack are disputed \\xe2\\x80\\x94 Michigan claimed it fired no shots and had only discharged a few musket rounds in the air as the Ohio group retreated \\xe2\\x80\\x94 the battle further infuriated both Ohioans and Michiganders and brought the two sides to the brink of all-out war.[29][30]\\n\\nBloodshed in the summer of 1835[edit]\\n\\nOhioan Two Stickney, who caused the sole serious injury in the Toledo War by stabbing a Michigan sheriff\\'s deputy.\\nIn response to allegations that Michigan\\'s militia fired upon Ohioans, Lucas called a special session of Ohio\\'s legislature on June 8, 1835 to pass several more controversial acts, including the establishment of Toledo as the county seat of Lucas County, the establishment of a Court of Common Pleas in the city, a law to prevent the forcible abduction of Ohio citizens from the area, and a budget of $300,000 to implement the legislation.[30] Michigan\\'s territorial legislature responded with a budget appropriation of $315,000.00 to fund its militia.[10]\\n\\nIn May and June 1835, Michigan drafted a State Constitution, with provisions for a bicameral legislature, a supreme court, and other components of a functional state government.[30][31] However, Congress was still not willing to allow Michigan\\'s entry into the Union, and President Jackson vowed to reject Michigan\\'s statehood until the border issue and \"war\" were resolved.[32]\\n\\nLucas ordered his adjutant general, Samuel C. Andrews, to conduct a count of the militia, and was told that 10,000 volunteers were ready to fight. That news became exaggerated as it traveled north, and soon thereafter the Michigan territorial press dared the Ohio \"million\" to enter the Strip as they \"welcomed them to hospitable graves.\"[33]\\n\\nIn June 1835, Lucas dispatched a delegation consisting of U.S. Attorney Noah Haynes Swayne, former Congressman William Allen, and David T. Disney to Washington D.C. to confer with President Jackson. The delegation presented Ohio\\'s case and urged the President to act swiftly to address the situation.[34][35][36]\\n\\nThroughout the summer of 1835, both governments continued their practice of one-upmanship, and constant skirmishes and arrests occurred. Citizens of Monroe County joined together in a posse to make arrests in Toledo. Partisans from Ohio, angered by the harassment, targeted the offenders with criminal prosecutions.[37] Lawsuits were not only rampant, they served as a basis for retaliatory lawsuits from the opposite side.[37] Partisans from both sides organized spying parties to keep track of the sheriffs of Wood County, Ohio and Monroe County, Michigan who were entrusted with the security of the border.[37]\\n\\nOn July 15, 1835, tensions and emotions finally overflowed and blood was spilled. Monroe County, Michigan, Deputy Sheriff Joseph Wood went into Toledo to arrest Major Benjamin Stickney, but when Stickney and his three sons resisted, the whole family was subdued and taken into custody.[37] During the scuffle, Two Stickney, son of the major, stabbed Wood with a pen knife and fled south into Ohio. Wood\\'s injuries were not life-threatening.[38] When Lucas refused Mason\\'s demand to extradite Two Stickney back to Michigan for trial, Mason wrote to President Jackson for help, suggesting that the matter be referred to the United States Supreme Court. At the time of the conflict, however, it was not established that the Supreme Court could resolve state boundary disputes, and Jackson declined the offer.[39] Looking for peace, Lucas began making his own efforts to end the conflict, again through federal intervention via Ohio\\'s congressional delegation.[36]\\n\\n\\tWikisource has original text related to this article:\\nMichigan Constitution of 1835\\nIn August 1835, at the strong urging of Ohio\\'s Congressmen, President Jackson removed Mason as Michigan\\'s Territorial Governor and appointed John S. (\"Little Jack\") Horner in his stead. Before his replacement arrived, Mason ordered 1,000 Michigan militiamen to enter Toledo and prevent the symbolically important first session of the Ohio Court of Common Pleas. While the idea was popular with Michigan residents, the effort failed: the judges held a midnight court before quickly retreating south of the Maumee River, where Ohio forces were positioned.[40]\\n\\nFrostbitten Convention and the end of the Toledo War[edit]\\nMason\\'s successor Horner proved to be extremely unpopular as governor and his tenure was very short. Residents disliked him so much they burned him in effigy and pelted him with vegetables upon his entry into the territorial capital. In the October 1835 elections, voters approved the draft constitution and elected the popular Mason as state governor. The same election saw Isaac E. Crary chosen as Michigan\\'s first U.S. Representative to Congress. Because of the dispute, however, Congress refused to accept his credentials and seated him instead as a non-voting delegate. The two U.S. Senators chosen by the state legislature in November, Lucius Lyon and John Norvell, were treated with even less respect, being allowed to sit only as spectators in the Senate gallery.[10]\\n\\n\\nJournal of the 1836 Michigan Territorial Convention, often called the Frostbitten Convention.\\nOn June 15, 1836, Jackson signed a bill that allowed Michigan to become a state, but only after it ceded the Toledo Strip. In exchange for this concession, Michigan would be granted the western three-quarters of what is now known as the Upper Peninsula (the easternmost portion had already been included in the state boundaries).[41] Because of the perceived worthlessness of the Upper Peninsula\\'s remote wilderness, a September 1836 special convention in Ann Arbor, Michigan, rejected the offer.[42]\\n\\nAs the year wore on, Michigan found itself deep in a financial crisis and was nearly bankrupt, because of the high militia expenses. The government was spurred to action by the realization that a $400,000 surplus in the United States Treasury was about to be distributed to the states, but not to territorial governments. Michigan would have been ineligible to receive the money.[31]\\n\\n\\nThe Upper Peninsula of Michigan. Congress offered the region in red to the state of Michigan in exchange for the Toledo Strip, as a compromise.\\nThe \"war\" unofficially ended on December 14, 1836, at a second convention in Ann Arbor. Delegates passed a resolution to accept the terms set forth by the Congress. However, the calling of the convention was itself not without controversy. It had only come about because of an upswelling of private summonses, petitions, and public meetings. Since the legislature did not approve a call to convention, some said the convention was illegal. Whigs boycotted the convention. As a consequence, the resolution was rejected and ridiculed by many Michigan residents.[42] Congress questioned the legality of the convention, but accepted the results of the convention regardless of its concerns. Because of these factors, as well as because of the notable cold spell at the time, the event later became known as the Frostbitten Convention.[42]\\n\\nOn January 26, 1837, Michigan was finally admitted to the Union as the 26th state,[43] without the Toledo Strip.[42]\\n\\nSubsequent history[edit]\\nAt the time of the Frostbitten Convention, it appeared that Ohio had won the conflict. The Upper Peninsula was considered a worthless wilderness by almost all familiar with the area.[44] The vast mineral riches of the land were unknown until the discovery of copper in the Keweenaw Peninsula and iron in the Western Upper Peninsula; this discovery led to a mining boom that lasted long into the 20th century.[45]\\n\\n\\nMichigan Governor Woodbridge Nathan Ferris and Ohio Governor Frank B. Willis shake on a truce over state line markers erected in 1915.\\nDifferences of opinion about the exact boundary location continued until a definitive re-survey was performed in 1915. Re-survey protocol would ordinarily require the surveyors to follow the Harris line exactly, but in this case, the surveyors deviated from the line in places. This prevented the situation of certain residents near the border being subject to changes in state residence, or land owners having parcels on both sides of the border. The 1915 survey was delineated by 71 granite markers, 12 inches (30 cm) wide by 18 inches (45 cm) high. Upon completion, the two states\\' governors, Woodbridge Nathan Ferris of Michigan and Frank B. Willis of Ohio, shook hands at the border.[8]\\n\\nTraces of the original Ordinance Line can still be seen in northwestern Ohio and northern Indiana. The northernmost boundaries of Ottawa and Wood counties follow it, as well as many township boundaries in Fulton and Williams counties. Many old north-south roads are offset as they cross the line, forcing traffic to jog east while traveling north. The line is identified on USGS topographical maps as the \"South [Boundary] Michigan Survey\", and on Lucas County and Fulton County, Ohio road maps as \"Old State Line Road.\"[46][47]\\n\\n\\nUSGS Topographic map that shows the former Ordinance Line as \"South Bdy Michigan Survey.\" There are jogs in many north-south roads at this line.\\nWhile the border on land was firmly set in the early 20th century, the two states were still in disagreement on the path of the border to the east, in Lake Erie.[48] In 1973, the two states finally obtained a hearing before the United States Supreme Court on their competing claims to the Lake Erie waters. In Michigan v. Ohio, the court upheld a special master\\'s report and ruled that the boundary between the two states in Lake Erie was angled to the northeast, as described in Ohio\\'s state constitution, and not a straight east\\xe2\\x80\\x93west line.[49] One consequence of the court decision was that tiny Turtle Island just outside of Maumee Bay and originally treated as being wholly in Michigan, was split between the two states.[50]\\n\\nThis decision was the last border adjustment, putting an end to years of debate over the official boundary line. In modern times, although a general rivalry between Michiganders and Ohioans persists, overt conflict between the states is restricted primarily to the Michigan\\xe2\\x80\\x93Ohio State rivalry in American football and to a lesser degree between the rivalry between the Detroit Tigers and Cleveland Indians in American League baseball;[51] the Toledo War is cited as the origins of the animosity represented in today\\'s rivalry.[52]\\n\\nSee also[edit]\\nPortal icon\\tMilitary of the United States portal\\nMichigan Constitution\\nList of incidents of civil unrest in the United States\\nList of Michigan county name etymologies\\nOhio Constitution\\nOhio Lands\\nTimeline of the Toledo Strip\\nReferences[edit]\\nFootnotes\\n\\nJump up ^ \"Northwest Ordinance\". The Avalon Project. Yale Law School. July 13, 1787. Retrieved May 12, 2006..\\nJump up ^ Edney, Matthew H. \"The Mitchell Map, 1755\\xe2\\x80\\x931782: An Irony of Empire\". University of Southern Maine. Retrieved January 14, 2015.\\nJump up ^ Mitchell, John (1755). A Map of the British and French Dominions in North America (Map). Not to scale. John Mitchell. Archived from the original on May 23, 2006. Retrieved May 12, 2006.\\nJump up ^ \"Enabling Act of 1802\". United States Congress. April 30, 1802. \\xc2\\xa7 2 \\xe2\\x80\\x93 via Wikisource.\\n^ Jump up to: a b c d Mendenhall & Graham (1895), pp. 127, 154.\\nJump up ^ Mendenhall & Graham (1895), p. 153.\\nJump up ^ Mendenhall & Graham (1895), p. 206.\\n^ Jump up to: a b c \"The Toledo War\". Geography of Michigan and the Great Lakes Region. Michigan State University. Archived from the original on August 20, 2006. Retrieved May 12, 2006.\\n^ Jump up to: a b Mendenhall & Graham (1895), p. 162.\\n^ Jump up to: a b c d e Public Affairs Office (March 4, 2002). \"The Toledo War\". Michigan Department of Military and Veteran Affairs. Retrieved May 12, 2006.\\n^ Jump up to: a b c Mendenhall & Graham (1895), p. 154.\\n^ Jump up to: a b \"The Great Black Swamp\". Historic Perrysburg. Archived from the original on February 18, 2007. Retrieved May 12, 2006.\\n^ Jump up to: a b Meinig (1993), pp. 357, 363, 436, and 440.\\nJump up ^ Sherman, C.E. & Schlesinger, A.M. (1916). Volume 1, Ohio-Michigan Boundary. Final Report, Ohio Cooperative Topographic Survey (Report).\\nJump up ^ Mendenhall & Graham (1895), p. 167.\\nJump up ^ Galloway (1895), p. 208.\\nJump up ^ \"S.013 Monument\". Detroit Historical Society and Detroit Historical Society. Archived from the original on September 29, 2006. Retrieved August 10, 2006.\\nJump up ^ \"Important Dates in Michigan\\'s Quest for Statehood\". State of Michigan. January 1, 2001. Retrieved May 12, 2006.\\nJump up ^ Adams (1876), pp. 214\\xe2\\x80\\x935.\\nJump up ^ Galloway (1895), p. 213.\\nJump up ^ Way (1869), p. 17.\\n^ Jump up to: a b c Galloway (1895), p. 214.\\n^ Jump up to: a b Way (1869), p. 19.\\nJump up ^ Galloway (1895), p. 216.\\nJump up ^ Wittke (1895), pp. 299, 303.\\nJump up ^ Mitchell (2004), p. 7.\\nJump up ^ \"The Ohio\\xe2\\x80\\x93Michigan Boundary War: Battle of Phillips Corners Marker #2\\xe2\\x80\\x9326\". Remarkable Ohioan. Retrieved May 13, 2006.\\nJump up ^ Galloway (1895), p. 217.\\nJump up ^ Wittke (1895), p. 306.\\n^ Jump up to: a b c Galloway (1895), p. 220.\\n^ Jump up to: a b Baker, Patricia J. (January 1, 2001). \"Stevens Thompson Mason\". State of Michigan. Retrieved May 13, 2006.\\nJump up ^ Galloway (1895), p. 227.\\nJump up ^ Way (1869), p. 28.\\nJump up ^ \"Noah Haynes Swayne\". American Law Encyclopedia, Volume 9. Law Library, NET Industries. Retrieved October 13, 2011.\\nJump up ^ Way (1869), p. 33.\\n^ Jump up to: a b Galloway (1895), p. 221.\\n^ Jump up to: a b c d Way (1869), p. 29.\\nJump up ^ Wittke (1895), p. 306. Two Stickney\\'s brothers, One and Three, were also active in the fight.\\nJump up ^ Dunbar & May (1995), p. 216.\\nJump up ^ Mendenhall & Graham (1895), p. 199.\\nJump up ^ Galloway (1895), p. 228.\\n^ Jump up to: a b c d Wittke (1895), p. 318.\\nJump up ^ \"Michigan Quarter\". U.S. Mint. Retrieved May 13, 2006.\\nJump up ^ Wittke (1895), p. 319.\\nJump up ^ \"History of the Upper Peninsula\". Northern Michigan University. Archived from the original on May 16, 2006. Retrieved May 13, 2006.\\nJump up ^ United States Geological Survey (July 1, 1983). 2 km NE of Wilkins, Ohio, United States (Map). Microsoft Research Maps. Retrieved May 13, 2006.\\nJump up ^ Ohio Department of Transportation. Lucas County, Ohio (PDF) (Map). Scale not given. Columbus: Ohio Department of Transportation. Archived from the original (PDF) on December 1, 2012. Retrieved October 5, 2008.\\nJump up ^ Kienzle, Javan (March 29, 2009). \"How Ohio\\'s grab for the Maumee River blocked Michigan\\'s road to statehood\". Detroit Free Press.\\nJump up ^ Michigan v. Ohio, 410 U.S. 420 (1973).\\nJump up ^ \"A brief history of Turtle Island\" (PDF). Captain-Johns.com. Retrieved May 13, 2006.\\nJump up ^ Emmanuel, Greg (2004). The 100-Yard War: Inside the 100-Year-Old Michigan\\xe2\\x80\\x93Ohio State Football Rivalry. Hoboken, NJ: J. Wiley & Sons. pp. 8\\xe2\\x80\\x9310. ISBN 0-471-67552-0.\\nJump up ^ Unger, Brian (April 6, 2010). \"How the States Got Their Shapes\". How the States Got Their Shapes. Season 1. Episode 1. The History Channel.\\nWorks cited\\n\\nAdams, John Quincy (1876). Adams, Charles Francis, ed. Memoirs of John Quincy Adams: Comprising Portions of His Diary from 1795 to 1848. Philadelphia: J. B. Lippincott & Co. Retrieved April 6, 2012.\\nAllen, R.C. (July 30, 1916). \"Biennial Report of the Directory and Report on Retracement and Report on Retracement Permanent Monumenting of the Michigan\\xe2\\x80\\x93Ohio Boundary\". Michigan Geological and Biological Survey (Lansing, MI: Wynkoop Hallenbeck Crawford Co., State Printers). OCLC 11743219. Publication 22, Geological Series 18.\\nDunbar, Willis F. & May, George S. (1995). Michigan: A History of the Wolverine State (3rd Revised ed.). Grand Rapids, MI: Eerdmans. ISBN 978-0-8028-7055-1.\\nEmmanuel, Greg (1960). \"Hate: The Early Years\". The 100-Yard War: Inside the 100-Year-Old Michigan\\xe2\\x80\\x93Ohio State Football Rivalry. New York: John Wiley & Sons. pp. 9\\xe2\\x80\\x9310. ISBN 0-471-67552-0.\\nGalloway, Tod B. (1895). \"The Ohio-Michigan Boundary Line Dispute.\". Ohio Archaeological and Historical Quarterly 4: 213. OCLC 44843819.\\nMeinig, D.W. (1993). The Shaping of America: A Geographical Perspective on 500 Years of History. Volume 2, Continental America, 1800\\xe2\\x80\\x931867. New Haven, CT: Yale University Press. ISBN 0-300-05658-3.\\nMendenhall, T.C. & Graham, A.A. (1895). \"Boundary Line Between Ohio and Indiana, and Between Ohio and Michigan\". Ohio Archaeological and Historical Quarterly 4: 127. OCLC 44843819.\\nMitchell, Gordon (July 2004). \"History Corner: Ohio\\xe2\\x80\\x93Michigan Boundary War, Part 2\". Professional Surveyor Magazine 24 (7): 7. Archived from the original on August 23, 2007.\\nWay, Willard V. (1869). Facts and Historical Events of the Toledo War of 1835. Toledo: Daily Commercial Steam Book and Job Printing House. OCLC 490964723.\\nWittke, Karl (1895). \"The Ohio-Michigan Boundary Dispute Re-examined\". Ohio Archaeological and Historical Quarterly 45: 299. OCLC 44843819.\\nFurther reading[edit]\\nBulkley, John McClelland (1913). \"Toledo War\". History of Monroe County, Michigan: A Narrative Account of Its Historical Progress, Its People, and Its Principal Interests. Chicago: Lewis Publishing. pp. 137\\xe2\\x80\\x93161. Retrieved May 8, 2006.\\nFaber, Don (2008). The Toledo War: The First Michigan\\xe2\\x80\\x93Ohio Rivalry. Ann Arbor, MI: University of Michigan Press. ISBN 978-0-472-07054-1.\\nGoogle (June 9, 2015). \"Map Showing Jog from West to East for Northerly Traffic and Indicating the Approximate Location of the Original Boundary Line\" (Map). Google Maps. Google. Retrieved June 9, 2015.\\nGreene, Merritt (1960). Curse of the White Panther: A Story of the Days of the Toledo War. Hillsdale, MI: Hillsdale School Supply.\\nHemans, Lawton T. (1920). Life and Times of Stevens Thomson Mason: The Boy Governor of Michigan. Lansing, MI: Michigan Historical Commission.\\nKarl-George, Mary (1971). The Rise and Fall of Toledo, Michigan: The Toledo War!. Lansing, MI: Michigan Historical Commission.\\nMichigan Becomes a State (Michigan Historical Marker). Ann Arbor, MI: Michigan Department of Natural Resources.\\nNaldrett, Alan (2007). \"Holy Toledo! Or the Continuing War Between Ohio and Michigan ...\" (PDF). Macomb County, Michigan.\\n\"ToledoWar.com\". ToledoWar.com. April 14, 2005.\\nToledo War at Ohio History Central\\nTuttle, Charles R. (1873). \"Chapter XXXI\". General History of the State of Michigan: With Biographical Sketches, Portrait Engravings, and Numerous Illustrations. Detroit: R.D.S. Tyler. pp. 448\\xe2\\x80\\x93479. ISBN 0-665-42277-6. Retrieved May 8, 2006.\\nUnited States Congress (1860). \"Thursday, June 5, 1843, \\'Northern Boundary of Ohio\\'\". Abridgment of the Debates of Congress, from 1789 to 1856. New York: D. Appleton. pp. 367\\xe2\\x80\\x93370. ISBN 1-4255-6619-7. Retrieved May 8, 2006.\\n'"
      ]
     },
     "execution_count": 401,
     "metadata": {},
     "output_type": "execute_result"
    }
   ],
   "source": [
    "uncompressedStringFile = open('data2.txt', 'r')\n",
    "uncompressedString = uncompressedStringFile.read()\n",
    "uncompressedString"
   ]
  },
  {
   "cell_type": "code",
   "execution_count": 402,
   "metadata": {
    "collapsed": false
   },
   "outputs": [
    {
     "data": {
      "text/plain": [
       "38378"
      ]
     },
     "execution_count": 402,
     "metadata": {},
     "output_type": "execute_result"
    }
   ],
   "source": [
    "len(uncompressedString)"
   ]
  },
  {
   "cell_type": "code",
   "execution_count": 403,
   "metadata": {
    "collapsed": false
   },
   "outputs": [],
   "source": [
    "def generate_symbol_frequency_list(string):\n",
    "    characterCountDictionary = {}\n",
    "    for char in string:\n",
    "        if characterCountDictionary.has_key(char):\n",
    "            characterCountDictionary[char] = characterCountDictionary[char] + 1\n",
    "        else:\n",
    "            characterCountDictionary[char] = 1\n",
    "    return characterCountDictionary\n",
    "\n",
    "def generate_huffman_coding(characterCountDictionary):\n",
    "    symbolPriorityQueue = Queue.PriorityQueue()\n",
    "    for symbol, count in characterCountDictionary.iteritems():\n",
    "        symbolPriorityQueue.put(SymbolNode(symbol, count))\n",
    "    \n",
    "    huffmanTree = generate_huffman_tree(symbolPriorityQueue)\n",
    "    \n",
    "    return generate_huffman_coding_from_tree(huffmanTree)\n",
    "    "
   ]
  },
  {
   "cell_type": "code",
   "execution_count": 404,
   "metadata": {
    "collapsed": false
   },
   "outputs": [
    {
     "name": "stdout",
     "output_type": "stream",
     "text": [
      "Coding for symbol e: 0b1111\n",
      "Coding for symbol s: 0b11101\n",
      "Coding for symbol w: 0b1110011\n",
      "Coding for symbol 0: 0b11100101\n",
      "Coding for symbol T: 0b11100100\n",
      "Coding for symbol u: 0b111000\n",
      "Coding for symbol  : 0b110\n",
      "Coding for symbol h: 0b10111\n",
      "Coding for symbol E: 0b1011011111\n",
      "Coding for symbol F: 0b1011011110\n",
      "Coding for symbol A: 0b101101110\n",
      "Coding for symbol W: 0b101101101\n",
      "Coding for symbol ): 0b101101100\n",
      "Coding for symbol (: 0b101101011\n",
      "Coding for symbol 9: 0b101101010\n",
      "Coding for symbol 6: 0b101101001\n",
      "Coding for symbol N: 0b1011010001\n",
      "Coding for symbol z: 0b101101000011\n",
      "Coding for symbol Y: 0b101101000010\n",
      "Coding for symbol X: 0b10110100000111\n",
      "Coding for symbol �: 0b101101000001101\n",
      "Coding for symbol /: 0b101101000001100\n",
      "Coding for symbol K: 0b1011010000010\n",
      "Coding for symbol Q: 0b101101000000\n",
      "Coding for symbol b: 0b1011001\n",
      "Coding for symbol v: 0b1011000\n",
      "Coding for symbol t: 0b1010\n",
      "Coding for symbol p: 0b100111\n",
      "Coding for symbol 2: 0b10011011\n",
      "Coding for symbol S: 0b10011010\n",
      "Coding for symbol O: 0b10011001\n",
      "Coding for symbol B: 0b100110001\n",
      "Coding for symbol P: 0b100110000\n",
      "Coding for symbol k: 0b10010111\n",
      "Coding for symbol 8: 0b10010110\n",
      "Coding for symbol R: 0b100101011\n",
      "Coding for symbol 4: 0b100101010\n",
      "Coding for symbol j: 0b1001010011\n",
      "Coding for symbol �: 0b1001010010\n",
      "Coding for symbol 7: 0b100101000\n",
      "Coding for symbol 1: 0b1001001\n",
      "Coding for symbol \n",
      ": 0b1001000\n",
      "Coding for symbol i: 0b1000\n",
      "Coding for symbol o: 0b0111\n",
      "Coding for symbol a: 0b0110\n",
      "Coding for symbol m: 0b010111\n",
      "Coding for symbol g: 0b010110\n",
      "Coding for symbol f: 0b010101\n",
      "Coding for symbol .: 0b010100\n",
      "Coding for symbol l: 0b01001\n",
      "Coding for symbol d: 0b01000\n",
      "Coding for symbol n: 0b0011\n",
      "Coding for symbol r: 0b0010\n",
      "Coding for symbol x: 0b0001111111\n",
      "Coding for symbol �: 0b0001111110\n",
      "Coding for symbol G: 0b000111110\n",
      "Coding for symbol I: 0b000111101\n",
      "Coding for symbol -: 0b000111100\n",
      "Coding for symbol M: 0b0001110\n",
      "Coding for symbol C: 0b00011011\n",
      "Coding for symbol 3: 0b00011010\n",
      "Coding for symbol !: 0b00011001111111\n",
      "Coding for symbol #: 0b000110011111101\n",
      "Coding for symbol �: 0b000110011111100\n",
      "Coding for symbol $: 0b0001100111110\n",
      "Coding for symbol �: 0b000110011110\n",
      "Coding for symbol q: 0b00011001110\n",
      "Coding for symbol ;: 0b000110011011\n",
      "Coding for symbol V: 0b000110011010\n",
      "Coding for symbol &: 0b00011001100\n",
      "Coding for symbol ': 0b000110010\n",
      "Coding for symbol \": 0b00011000\n",
      "Coding for symbol :: 0b000101111\n",
      "Coding for symbol D: 0b000101110\n",
      "Coding for symbol J: 0b00010110\n",
      "Coding for symbol U: 0b000101011\n",
      "Coding for symbol H: 0b000101010\n",
      "Coding for symbol 5: 0b00010100\n",
      "Coding for symbol y: 0b000100\n",
      "Coding for symbol ,: 0b000011\n",
      "Coding for symbol ^: 0b000010111\n",
      "Coding for symbol \t: 0b0000101101\n",
      "Coding for symbol �: 0b0000101100\n",
      "Coding for symbol [: 0b00001010\n",
      "Coding for symbol ]: 0b00001001\n",
      "Coding for symbol L: 0b00001000\n",
      "Coding for symbol c: 0b00000\n"
     ]
    }
   ],
   "source": [
    "symbolFrequency = generate_symbol_frequency_list(uncompressedString)\n",
    "huffmanCoding = generate_huffman_coding(symbolFrequency)"
   ]
  },
  {
   "cell_type": "code",
   "execution_count": 405,
   "metadata": {
    "collapsed": false
   },
   "outputs": [
    {
     "data": {
      "text/plain": [
       "{'\\t': '0b0000101101',\n",
       " '\\n': '0b1001000',\n",
       " ' ': '0b110',\n",
       " '!': '0b00011001111111',\n",
       " '\"': '0b00011000',\n",
       " '#': '0b000110011111101',\n",
       " '$': '0b0001100111110',\n",
       " '&': '0b00011001100',\n",
       " \"'\": '0b000110010',\n",
       " '(': '0b101101011',\n",
       " ')': '0b101101100',\n",
       " ',': '0b000011',\n",
       " '-': '0b000111100',\n",
       " '.': '0b010100',\n",
       " '/': '0b101101000001100',\n",
       " '0': '0b11100101',\n",
       " '1': '0b1001001',\n",
       " '2': '0b10011011',\n",
       " '3': '0b00011010',\n",
       " '4': '0b100101010',\n",
       " '5': '0b00010100',\n",
       " '6': '0b101101001',\n",
       " '7': '0b100101000',\n",
       " '8': '0b10010110',\n",
       " '9': '0b101101010',\n",
       " ':': '0b000101111',\n",
       " ';': '0b000110011011',\n",
       " 'A': '0b101101110',\n",
       " 'B': '0b100110001',\n",
       " 'C': '0b00011011',\n",
       " 'D': '0b000101110',\n",
       " 'E': '0b1011011111',\n",
       " 'F': '0b1011011110',\n",
       " 'G': '0b000111110',\n",
       " 'H': '0b000101010',\n",
       " 'I': '0b000111101',\n",
       " 'J': '0b00010110',\n",
       " 'K': '0b1011010000010',\n",
       " 'L': '0b00001000',\n",
       " 'M': '0b0001110',\n",
       " 'N': '0b1011010001',\n",
       " 'O': '0b10011001',\n",
       " 'P': '0b100110000',\n",
       " 'Q': '0b101101000000',\n",
       " 'R': '0b100101011',\n",
       " 'S': '0b10011010',\n",
       " 'T': '0b11100100',\n",
       " 'U': '0b000101011',\n",
       " 'V': '0b000110011010',\n",
       " 'W': '0b101101101',\n",
       " 'X': '0b10110100000111',\n",
       " 'Y': '0b101101000010',\n",
       " '[': '0b00001010',\n",
       " ']': '0b00001001',\n",
       " '^': '0b000010111',\n",
       " 'a': '0b0110',\n",
       " 'b': '0b1011001',\n",
       " 'c': '0b00000',\n",
       " 'd': '0b01000',\n",
       " 'e': '0b1111',\n",
       " 'f': '0b010101',\n",
       " 'g': '0b010110',\n",
       " 'h': '0b10111',\n",
       " 'i': '0b1000',\n",
       " 'j': '0b1001010011',\n",
       " 'k': '0b10010111',\n",
       " 'l': '0b01001',\n",
       " 'm': '0b010111',\n",
       " 'n': '0b0011',\n",
       " 'o': '0b0111',\n",
       " 'p': '0b100111',\n",
       " 'q': '0b00011001110',\n",
       " 'r': '0b0010',\n",
       " 's': '0b11101',\n",
       " 't': '0b1010',\n",
       " 'u': '0b111000',\n",
       " 'v': '0b1011000',\n",
       " 'w': '0b1110011',\n",
       " 'x': '0b0001111111',\n",
       " 'y': '0b000100',\n",
       " 'z': '0b101101000011',\n",
       " '\\x80': '0b0001111110',\n",
       " '\\x93': '0b0000101100',\n",
       " '\\x94': '0b000110011110',\n",
       " '\\xa7': '0b000110011111100',\n",
       " '\\xc2': '0b101101000001101',\n",
       " '\\xe2': '0b1001010010'}"
      ]
     },
     "execution_count": 405,
     "metadata": {},
     "output_type": "execute_result"
    }
   ],
   "source": [
    "huffmanCoding"
   ]
  },
  {
   "cell_type": "code",
   "execution_count": 406,
   "metadata": {
    "collapsed": false
   },
   "outputs": [],
   "source": [
    "def compress_string_to_stream(uncompressed, huffmanCoding):\n",
    "    stream = BitStream()\n",
    "    for symbol in uncompressed:\n",
    "        coding = BitArray(huffmanCoding[symbol])\n",
    "        # Convert coding into a sequence of binary values\n",
    "        # We want to just shove the bits into a stream without any padding\n",
    "        stream.append(coding)\n",
    "    return stream"
   ]
  },
  {
   "cell_type": "code",
   "execution_count": null,
   "metadata": {
    "collapsed": false
   },
   "outputs": [],
   "source": []
  },
  {
   "cell_type": "code",
   "execution_count": 407,
   "metadata": {
    "collapsed": false
   },
   "outputs": [
    {
     "name": "stdout",
     "output_type": "stream",
     "text": [
      "Writing header...\n",
      "symbolCount: 87\n",
      "dataBitCount: 185455\n",
      "Wrote header of length 2200\n",
      "0x00000057930a0b0800f12068cfa9c3c67e1404dacb01833008e53409951c044b22048b9202454981010a013305408e4580eb41d90150d00b76c054b8034ee8094f0143fc0050fd281833c461e33f49c24645e1f6830cc2068dc265076183368610368e123e4b0db4127844ca9844d2b84db56c20298c140ce0cb35844b...\n"
     ]
    }
   ],
   "source": [
    "def write_string_to_compressed_file(string, coding):\n",
    "    compressedStream = compress_string_to_stream(string, coding)\n",
    "    headerStream = create_header_bitstream(len(compressedStream), coding)\n",
    "    compressedFile = open('compressed.dat', 'wb')\n",
    "    headerStream.tofile(compressedFile)\n",
    "    compressedStream.tofile(compressedFile)\n",
    "    compressedFile.close()\n",
    "    \n",
    "def create_header_bitstream(compressedStreamBitCount, coding):\n",
    "    headerStream = BitStream()\n",
    "    print \"Writing header...\"\n",
    "    # Header format:\n",
    "    # 32 bytes: Symbol count\n",
    "    # 32 bytes: Symbol n\n",
    "    # 32 bytes: Code bit length\n",
    "    # 32 bytes: Code of n-bits padded with 0's\n",
    "    # ...\n",
    "    # 32 bytes: Coded data bit count\n",
    "    # Coded, unpadded data of specifed length padded at end with 0's\n",
    "    headerStream.append(BitArray(uint=len(coding), length=32))\n",
    "    print \"symbolCount: {}\".format(len(coding))\n",
    "    for symbol, code in coding.items():\n",
    "        headerStream.append(BitArray(bytes=symbol, length=8))\n",
    "        bitcount = len(code) - 2\n",
    "        headerStream.append(BitArray(uint=bitcount, length=8))\n",
    "        headerStream.append(BitArray(bin=code))\n",
    "    headerStream.append(BitArray(uint=compressedStreamBitCount, length=32))\n",
    "    print \"dataBitCount: {}\".format(compressedStreamBitCount)\n",
    "    print \"Wrote header of length {}\".format(len(headerStream))\n",
    "    print headerStream\n",
    "    return headerStream\n",
    "\n",
    "def read_header_bitstream(stream):\n",
    "    coding = {}\n",
    "    print \"Reading header...\"\n",
    "    symbolCount = stream.read(32).uint\n",
    "    print \"symbolCount: {}\".format(symbolCount)\n",
    "    for i in range(0, symbolCount):\n",
    "        symbol = stream.read(8).bytes\n",
    "        bitCount = stream.read(8).uint\n",
    "        code = stream.read(bitCount).bin\n",
    "        coding[symbol] = '0b' + code\n",
    "    dataBitCount = stream.read(32).uint\n",
    "    print \"dataBitCount: {}\".format(dataBitCount)\n",
    "    print \"Read header of length {}\".format(stream.pos)\n",
    "    headerSize = stream.pos\n",
    "    return (coding, dataBitCount, headerSize)\n",
    "\n",
    "write_string_to_compressed_file(uncompressedString, huffmanCoding)"
   ]
  },
  {
   "cell_type": "code",
   "execution_count": 408,
   "metadata": {
    "collapsed": false
   },
   "outputs": [],
   "source": [
    "def decompress_string_from_file(file):\n",
    "    compressedStream = ConstBitStream(filename=file)\n",
    "    coding, dataBitCount, headerSize = read_header_bitstream(compressedStream)\n",
    "    # Align to the next byte because the header was written using ByteStream.tofile, which pads to the nearest byte\n",
    "    compressedStream.bytealign()\n",
    "    reverseCoding = {v: k for k, v in coding.items()}\n",
    "    result = ''\n",
    "    binaryStringPrefix = '0b'\n",
    "    code = binaryStringPrefix\n",
    "    # read up until bitpos is 1 less than the stream length. We don't\n",
    "    # want to read when it's in the last position because that's the end of the stream\n",
    "    print \"compressedStream.bitpos {}\".format(compressedStream.bitpos)\n",
    "    while compressedStream.bitpos < dataBitCount + headerSize:\n",
    "        code += compressedStream.read('bin:1')[0]\n",
    "        if reverseCoding.has_key(code):\n",
    "            # Found our coding, insert the symbol\n",
    "            result += reverseCoding[code]\n",
    "            code = binaryStringPrefix\n",
    "\n",
    "    return result"
   ]
  },
  {
   "cell_type": "code",
   "execution_count": 409,
   "metadata": {
    "collapsed": false
   },
   "outputs": [
    {
     "name": "stdout",
     "output_type": "stream",
     "text": [
      "Reading header...\n",
      "symbolCount: 87\n",
      "dataBitCount: 185455\n",
      "Read header of length 2200\n",
      "compressedStream.bitpos 2200\n"
     ]
    }
   ],
   "source": [
    "decompressedString = decompress_string_from_file('compressed.dat')\n",
    "# Note: the data written to the file ends up being padded, so the file read back\n",
    "# will likely contain more bits than the original encoded data. The fix is some sort\n",
    "# of file format that specifies the length of the compressed data. The encoding also\n",
    "# needs to be stored in the file."
   ]
  },
  {
   "cell_type": "code",
   "execution_count": 410,
   "metadata": {
    "collapsed": true
   },
   "outputs": [],
   "source": [
    "decompressedFile = open('decompressed.txt', 'w')\n",
    "decompressedFile.write(decompressedString)\n",
    "decompressedFile.close()"
   ]
  },
  {
   "cell_type": "code",
   "execution_count": null,
   "metadata": {
    "collapsed": true
   },
   "outputs": [],
   "source": []
  }
 ],
 "metadata": {
  "kernelspec": {
   "display_name": "Python 2",
   "language": "python",
   "name": "python2"
  },
  "language_info": {
   "codemirror_mode": {
    "name": "ipython",
    "version": 2
   },
   "file_extension": ".py",
   "mimetype": "text/x-python",
   "name": "python",
   "nbconvert_exporter": "python",
   "pygments_lexer": "ipython2",
   "version": "2.7.10"
  }
 },
 "nbformat": 4,
 "nbformat_minor": 0
}
