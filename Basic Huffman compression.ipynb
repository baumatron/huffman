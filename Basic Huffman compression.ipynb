{
 "cells": [
  {
   "cell_type": "code",
   "execution_count": 268,
   "metadata": {
    "collapsed": false
   },
   "outputs": [],
   "source": [
    "import Queue\n",
    "from bitstring import BitArray, BitStream, ConstBitStream"
   ]
  },
  {
   "cell_type": "code",
   "execution_count": 230,
   "metadata": {
    "collapsed": true
   },
   "outputs": [],
   "source": [
    "pq = Queue.PriorityQueue()"
   ]
  },
  {
   "cell_type": "code",
   "execution_count": 231,
   "metadata": {
    "collapsed": true
   },
   "outputs": [],
   "source": [
    "symbols = [(100, 'a'), (50, 'b'), (75, 'c')]"
   ]
  },
  {
   "cell_type": "code",
   "execution_count": 232,
   "metadata": {
    "collapsed": false
   },
   "outputs": [],
   "source": [
    "for symbol in symbols:\n",
    "    pq.put(symbol)"
   ]
  },
  {
   "cell_type": "code",
   "execution_count": 233,
   "metadata": {
    "collapsed": false
   },
   "outputs": [],
   "source": [
    "class Node:\n",
    "    def __cmp__(self, other):\n",
    "        return cmp(self.count, other.count)\n",
    "\n",
    "class SymbolNode(Node):\n",
    "    def __init__(self, symbol, count):\n",
    "        self.left = None\n",
    "        self.right = None\n",
    "        self.symbol = symbol\n",
    "        self.count = count\n",
    "\n",
    "class ContainerNode(Node):\n",
    "    def __init__(self, left, right):\n",
    "        self.left = left\n",
    "        self.right = right\n",
    "        self.symbol = None\n",
    "        self.count = left.count + right.count"
   ]
  },
  {
   "cell_type": "code",
   "execution_count": 234,
   "metadata": {
    "collapsed": true
   },
   "outputs": [],
   "source": [
    "symbolQueue = Queue.PriorityQueue()\n",
    "\n",
    "for count, symbol in symbols:\n",
    "    symbolQueue.put(SymbolNode(symbol, count))"
   ]
  },
  {
   "cell_type": "code",
   "execution_count": 235,
   "metadata": {
    "collapsed": false
   },
   "outputs": [],
   "source": [
    "#while not symbolQueue.empty():\n",
    "#    print symbolQueue.get().symbol"
   ]
  },
  {
   "cell_type": "code",
   "execution_count": 236,
   "metadata": {
    "collapsed": true
   },
   "outputs": [],
   "source": [
    "# Takes a Queue.PriorityQueue that contains a flat list of SymbolNodes\n",
    "# and builds a huffman tree. Returns a ContainerNode at the root of the tree\n",
    "def generate_huffman_tree(symbolPriorityQueue):\n",
    "    while not symbolPriorityQueue.empty():\n",
    "        left = symbolPriorityQueue.get()\n",
    "        if not symbolPriorityQueue.empty():\n",
    "            right = symbolPriorityQueue.get()\n",
    "            container = ContainerNode(left, right)\n",
    "            symbolPriorityQueue.put(container)\n",
    "        else:\n",
    "            return left"
   ]
  },
  {
   "cell_type": "code",
   "execution_count": 237,
   "metadata": {
    "collapsed": false
   },
   "outputs": [],
   "source": [
    "def generate_huffman_coding_from_tree_internal(node, currentCode, symbolToIntCoding):\n",
    "    if not node.right is None:\n",
    "        generate_huffman_coding_from_tree_internal(node.right, currentCode + '1', symbolToIntCoding)\n",
    "    if not node.left is None:\n",
    "        generate_huffman_coding_from_tree_internal(node.left, currentCode + '0', symbolToIntCoding)\n",
    "    if not node.symbol is None:\n",
    "        print \"Coding for symbol {}: {}\".format(node.symbol, currentCode)\n",
    "        symbolToIntCoding[node.symbol] = currentCode\n",
    "    return symbolToIntCoding\n",
    "        \n",
    "def generate_huffman_coding_from_tree(tree):\n",
    "    return generate_huffman_coding_from_tree_internal(tree, '0b', {})\n"
   ]
  },
  {
   "cell_type": "code",
   "execution_count": 238,
   "metadata": {
    "collapsed": true
   },
   "outputs": [],
   "source": [
    "symbolQueue = Queue.PriorityQueue()\n",
    "\n",
    "for count, symbol in symbols:\n",
    "    symbolQueue.put(SymbolNode(symbol, count))\n",
    "\n",
    "tree = generate_huffman_tree(symbolQueue)"
   ]
  },
  {
   "cell_type": "code",
   "execution_count": 239,
   "metadata": {
    "collapsed": false
   },
   "outputs": [
    {
     "name": "stdout",
     "output_type": "stream",
     "text": [
      "<__main__.ContainerNode instance at 0x111c627e8>\n"
     ]
    }
   ],
   "source": [
    "print tree"
   ]
  },
  {
   "cell_type": "code",
   "execution_count": 240,
   "metadata": {
    "collapsed": false
   },
   "outputs": [
    {
     "name": "stdout",
     "output_type": "stream",
     "text": [
      "Coding for symbol c: 0b11\n",
      "Coding for symbol b: 0b10\n",
      "Coding for symbol a: 0b0\n",
      "{'a': '0b0', 'c': '0b11', 'b': '0b10'}\n"
     ]
    }
   ],
   "source": [
    "symbolToIntCoding = generate_huffman_coding_from_tree(tree)\n",
    "print symbolToIntCoding\n",
    "intToSymbolCoding = {v: k for k, v in symbolToIntCoding.items()}"
   ]
  },
  {
   "cell_type": "code",
   "execution_count": 241,
   "metadata": {
    "collapsed": false
   },
   "outputs": [
    {
     "data": {
      "text/plain": [
       "{'a': '0b0', 'b': '0b10', 'c': '0b11'}"
      ]
     },
     "execution_count": 241,
     "metadata": {},
     "output_type": "execute_result"
    }
   ],
   "source": [
    "symbolToIntCoding"
   ]
  },
  {
   "cell_type": "code",
   "execution_count": 242,
   "metadata": {
    "collapsed": false
   },
   "outputs": [
    {
     "data": {
      "text/plain": [
       "{'0b0': 'a', '0b10': 'b', '0b11': 'c'}"
      ]
     },
     "execution_count": 242,
     "metadata": {},
     "output_type": "execute_result"
    }
   ],
   "source": [
    "intToSymbolCoding"
   ]
  },
  {
   "cell_type": "code",
   "execution_count": 243,
   "metadata": {
    "collapsed": false,
    "scrolled": true
   },
   "outputs": [
    {
     "data": {
      "text/plain": [
       "'WICHITA, KS\\xe2\\x80\\x94Chuckling and shaking their heads as they described their annual family gift exchange to reporters, Koch Industries executives Charles and David Koch confirmed Wednesday they had unwittingly gotten each other the same election for Christmas this year.\\n\\nThe two brothers and energy industry magnates, who for decades have gathered to share a holiday meal and open presents next to the Christmas tree in Charles\\xe2\\x80\\x99 Wichita home, admitted they were a bit embarrassed to learn they had each given the other U.S. Rep. Lee Zeldin\\xe2\\x80\\x99s congressional seat, but said they ultimately shrugged off the coincidence.\\n\\n\\xe2\\x80\\x9cNow that I think about it, I can\\xe2\\x80\\x99t believe this has never happened before. It was probably bound to sooner or later. I guess we just know each other too well!\\xe2\\x80\\x9d\\n\\xe2\\x80\\x9cWhen we realized we both bought New York\\xe2\\x80\\x99s 1st District, we just looked at each other and laughed,\\xe2\\x80\\x9d said Charles Koch, who acknowledged that he and David have pretty similar tastes. \\xe2\\x80\\x9cNow that I think about it, I can\\xe2\\x80\\x99t believe this has never happened before. It was probably bound to sooner or later. I guess we just know each other too well!\\xe2\\x80\\x9d\\n\\n\\xe2\\x80\\x9cAt least it\\xe2\\x80\\x99s something we can enjoy using together,\\xe2\\x80\\x9d he added.\\n\\nDavid Koch explained that he had hoped the present would be a special surprise for Charles, noting that he had taken care to be discreet by telling his brother he was \\xe2\\x80\\x9cjust heading out to another fundraiser at Lincoln Center\\xe2\\x80\\x9d when he was in fact on his way to go purchase the outcome of the election in the eastern Long Island congressional district. In addition, he was reportedly careful not to take any calls from the Zeldin 2016 campaign team while he and Charles were out together at dinner, the ballet, or Cato Institute symposiums.\\n\\n\\xe2\\x80\\x9cA few months ago, we were watching the news, and when one of the pundits on TV mentioned Zeldin\\xe2\\x80\\x99s reelection bid, Charles\\xe2\\x80\\x99 whole face just lit up,\\xe2\\x80\\x9d said David Koch, who later admitted he had purchased the district partly because he knew he would want to borrow it for himself from time to time. \\xe2\\x80\\x9cWell, it seems like my brother and I both had the same idea about limiting the petroleum industry\\xe2\\x80\\x99s liability for toxic spills and ensuring taxpayers shoulder the majority of cleanup costs. That\\xe2\\x80\\x99s just so us, you know?\\xe2\\x80\\x9d\\n\\n\\xe2\\x80\\x9cAfter he got me Wisconsin\\xe2\\x80\\x99s right-to-work bill last year, I knew I had to get him something really good this Christmas,\\xe2\\x80\\x9d David added.\\n\\nThe brothers said they were relieved to have spent the same amount on their gifts, having both made the maximum $2,700 in direct donations to the incumbent representative\\xe2\\x80\\x99s campaign and, through their super PAC Freedom Partners Action Fund, earmarked $2 million to pay for attack ads and mailers to smear Zeldin\\xe2\\x80\\x99s challenger in the key swing district.\\n\\n\\xe2\\x80\\x9cWe went in together on Scott Walker a few months back, which was a real letdown, so I wanted to get David something he could really get some use out of,\\xe2\\x80\\x9d said Charles Koch, recalling how disappointed his brother had been when the former presidential candidate had stopped working. \\xe2\\x80\\x9cWe were so excited when we first got Walker, but he turned out to be defective. It would have cost way too much to fix him.\\xe2\\x80\\x9d\\n\\nAccording to reports, the brothers agreed they would avoid making the same mistake next Christmas by simply giving each other a $25 million gift card that could be spent at any lobbying firm in the United States.\\n\\nSHARE THIS STORY:\\n\\xe2\\x80\\x98This Will Be The End Of Trump\\xe2\\x80\\x99s Campaign,\\xe2\\x80\\x99 Says Increasingly Nervous Man For Seventh Time This Year\\n\\nNEWS IN BRIEF\\nDecember 8, 2015\\nVOL 51 ISSUE 49\\nPolitics \\xc2\\xb7 Politicians \\xc2\\xb7 Election 2016 \\xc2\\xb7 Donald Trump\\nSALISBURY, MD\\xe2\\x80\\x94Repeating identical comments he had made in June, July, August, September, and twice in November, increasingly nervous local man Aaron Howe responded to Donald Trump\\xe2\\x80\\x99s call to ban Muslims from entering the U.S. Monday by once again stating this would be the end of the Republican frontrunner\\xe2\\x80\\x99s campaign, sources confirmed. \\xe2\\x80\\x9cWell, that\\xe2\\x80\\x99s it\\xe2\\x80\\x94you just can\\xe2\\x80\\x99t say those kinds of things and expect to be taken seriously any longer,\\xe2\\x80\\x9d said an anxious Howe, his voice quavering slightly as he spoke aloud the very same words he had previously uttered in reaction to remarks about Mexicans, women, the disabled, former POW John McCain, and a number of other targeted parties. \\xe2\\x80\\x9cThat\\xe2\\x80\\x99s the final nail in the coffin right there. There\\xe2\\x80\\x99s no way he\\xe2\\x80\\x99s coming back from this one.\\xe2\\x80\\x9d At press time, a visibly tense Howe was steadily amassing the angst and exasperation that would be unleashed in his seventh expletive-filled exclamation of the year when he catches sight of the newest set of GOP poll numbers.\\n'"
      ]
     },
     "execution_count": 243,
     "metadata": {},
     "output_type": "execute_result"
    }
   ],
   "source": [
    "uncompressedStringFile = open('data.txt', 'r')\n",
    "uncompressedString = uncompressedStringFile.read()\n",
    "uncompressedString"
   ]
  },
  {
   "cell_type": "code",
   "execution_count": 244,
   "metadata": {
    "collapsed": false
   },
   "outputs": [
    {
     "data": {
      "text/plain": [
       "4682"
      ]
     },
     "execution_count": 244,
     "metadata": {},
     "output_type": "execute_result"
    }
   ],
   "source": [
    "len(uncompressedString)"
   ]
  },
  {
   "cell_type": "code",
   "execution_count": 245,
   "metadata": {
    "collapsed": false
   },
   "outputs": [],
   "source": [
    "def generate_symbol_frequency_list(string):\n",
    "    characterCountDictionary = {}\n",
    "    for char in string:\n",
    "        if characterCountDictionary.has_key(char):\n",
    "            characterCountDictionary[char] = characterCountDictionary[char] + 1\n",
    "        else:\n",
    "            characterCountDictionary[char] = 1\n",
    "    return characterCountDictionary\n",
    "\n",
    "def generate_huffman_coding(characterCountDictionary):\n",
    "    symbolPriorityQueue = Queue.PriorityQueue()\n",
    "    for symbol, count in characterCountDictionary.iteritems():\n",
    "        symbolPriorityQueue.put(SymbolNode(symbol, count))\n",
    "    \n",
    "    huffmanTree = generate_huffman_tree(symbolPriorityQueue)\n",
    "    \n",
    "    return generate_huffman_coding_from_tree(huffmanTree)\n",
    "    "
   ]
  },
  {
   "cell_type": "code",
   "execution_count": 246,
   "metadata": {
    "collapsed": false
   },
   "outputs": [
    {
     "name": "stdout",
     "output_type": "stream",
     "text": [
      "Coding for symbol h: 0b11111\n",
      "Coding for symbol c: 0b111101\n",
      "Coding for symbol ,: 0b1111001\n",
      "Coding for symbol f: 0b1111000\n",
      "Coding for symbol �: 0b1110111\n",
      "Coding for symbol I: 0b11101101\n",
      "Coding for symbol R: 0b1110110011\n",
      "Coding for symbol �: 0b11101100101\n",
      "Coding for symbol �: 0b11101100100\n",
      "Coding for symbol �: 0b11101100011\n",
      "Coding for symbol $: 0b11101100010\n",
      "Coding for symbol J: 0b11101100001\n",
      "Coding for symbol 5: 0b11101100000\n",
      "Coding for symbol �: 0b1110101\n",
      "Coding for symbol A: 0b111010011\n",
      "Coding for symbol B: 0b11101001011\n",
      "Coding for symbol -: 0b11101001010\n",
      "Coding for symbol H: 0b1110100100\n",
      "Coding for symbol �: 0b111010001\n",
      "Coding for symbol �: 0b111010000\n",
      "Coding for symbol r: 0b11100\n",
      "Coding for symbol  : 0b110\n",
      "Coding for symbol u: 0b101111\n",
      "Coding for symbol m: 0b101110\n",
      "Coding for symbol M: 0b1011011111\n",
      "Coding for symbol P: 0b1011011110\n",
      "Coding for symbol 2: 0b1011011101\n",
      "Coding for symbol E: 0b1011011100\n",
      "Coding for symbol �: 0b10110110\n",
      "Coding for symbol D: 0b101101011\n",
      "Coding for symbol 1: 0b1011010101\n",
      "Coding for symbol O: 0b1011010100\n",
      "Coding for symbol L: 0b1011010011\n",
      "Coding for symbol U: 0b1011010010\n",
      "Coding for symbol j: 0b101101000\n",
      "Coding for symbol g: 0b101100\n",
      "Coding for symbol t: 0b1010\n",
      "Coding for symbol d: 0b10011\n",
      "Coding for symbol w: 0b100101\n",
      "Coding for symbol C: 0b10010011\n",
      "Coding for symbol 0: 0b1001001011\n",
      "Coding for symbol :: 0b100100101011\n",
      "Coding for symbol 8: 0b100100101010\n",
      "Coding for symbol 9: 0b100100101001\n",
      "Coding for symbol �: 0b100100101000\n",
      "Coding for symbol q: 0b100100100111\n",
      "Coding for symbol z: 0b100100100110\n",
      "Coding for symbol 6: 0b10010010010\n",
      "Coding for symbol !: 0b10010010001\n",
      "Coding for symbol V: 0b10010010000\n",
      "Coding for symbol v: 0b1001000\n",
      "Coding for symbol a: 0b1000\n",
      "Coding for symbol l: 0b01111\n",
      "Coding for symbol S: 0b01110111\n",
      "Coding for symbol T: 0b01110110\n",
      "Coding for symbol F: 0b0111010111\n",
      "Coding for symbol G: 0b011101011011\n",
      "Coding for symbol 7: 0b011101011010\n",
      "Coding for symbol 4: 0b011101011001\n",
      "Coding for symbol ?: 0b011101011000\n",
      "Coding for symbol Y: 0b0111010101\n",
      "Coding for symbol Z: 0b0111010100\n",
      "Coding for symbol x: 0b01110100\n",
      "Coding for symbol b: 0b011100\n",
      "Coding for symbol o: 0b0110\n",
      "Coding for symbol i: 0b0101\n",
      "Coding for symbol k: 0b0100111\n",
      "Coding for symbol \n",
      ": 0b0100110\n",
      "Coding for symbol p: 0b010010\n",
      "Coding for symbol y: 0b010001\n",
      "Coding for symbol .: 0b0100001\n",
      "Coding for symbol W: 0b01000001\n",
      "Coding for symbol N: 0b010000001\n",
      "Coding for symbol K: 0b010000000\n",
      "Coding for symbol n: 0b0011\n",
      "Coding for symbol s: 0b0010\n",
      "Coding for symbol e: 0b000\n"
     ]
    }
   ],
   "source": [
    "symbolFrequency = generate_symbol_frequency_list(uncompressedString)\n",
    "huffmanCoding = generate_huffman_coding(symbolFrequency)"
   ]
  },
  {
   "cell_type": "code",
   "execution_count": 247,
   "metadata": {
    "collapsed": false
   },
   "outputs": [
    {
     "data": {
      "text/plain": [
       "{'\\n': '0b0100110',\n",
       " ' ': '0b110',\n",
       " '!': '0b10010010001',\n",
       " '$': '0b11101100010',\n",
       " ',': '0b1111001',\n",
       " '-': '0b11101001010',\n",
       " '.': '0b0100001',\n",
       " '0': '0b1001001011',\n",
       " '1': '0b1011010101',\n",
       " '2': '0b1011011101',\n",
       " '4': '0b011101011001',\n",
       " '5': '0b11101100000',\n",
       " '6': '0b10010010010',\n",
       " '7': '0b011101011010',\n",
       " '8': '0b100100101010',\n",
       " '9': '0b100100101001',\n",
       " ':': '0b100100101011',\n",
       " '?': '0b011101011000',\n",
       " 'A': '0b111010011',\n",
       " 'B': '0b11101001011',\n",
       " 'C': '0b10010011',\n",
       " 'D': '0b101101011',\n",
       " 'E': '0b1011011100',\n",
       " 'F': '0b0111010111',\n",
       " 'G': '0b011101011011',\n",
       " 'H': '0b1110100100',\n",
       " 'I': '0b11101101',\n",
       " 'J': '0b11101100001',\n",
       " 'K': '0b010000000',\n",
       " 'L': '0b1011010011',\n",
       " 'M': '0b1011011111',\n",
       " 'N': '0b010000001',\n",
       " 'O': '0b1011010100',\n",
       " 'P': '0b1011011110',\n",
       " 'R': '0b1110110011',\n",
       " 'S': '0b01110111',\n",
       " 'T': '0b01110110',\n",
       " 'U': '0b1011010010',\n",
       " 'V': '0b10010010000',\n",
       " 'W': '0b01000001',\n",
       " 'Y': '0b0111010101',\n",
       " 'Z': '0b0111010100',\n",
       " 'a': '0b1000',\n",
       " 'b': '0b011100',\n",
       " 'c': '0b111101',\n",
       " 'd': '0b10011',\n",
       " 'e': '0b000',\n",
       " 'f': '0b1111000',\n",
       " 'g': '0b101100',\n",
       " 'h': '0b11111',\n",
       " 'i': '0b0101',\n",
       " 'j': '0b101101000',\n",
       " 'k': '0b0100111',\n",
       " 'l': '0b01111',\n",
       " 'm': '0b101110',\n",
       " 'n': '0b0011',\n",
       " 'o': '0b0110',\n",
       " 'p': '0b010010',\n",
       " 'q': '0b100100100111',\n",
       " 'r': '0b11100',\n",
       " 's': '0b0010',\n",
       " 't': '0b1010',\n",
       " 'u': '0b101111',\n",
       " 'v': '0b1001000',\n",
       " 'w': '0b100101',\n",
       " 'x': '0b01110100',\n",
       " 'y': '0b010001',\n",
       " 'z': '0b100100100110',\n",
       " '\\x80': '0b1110111',\n",
       " '\\x94': '0b11101100100',\n",
       " '\\x98': '0b100100101000',\n",
       " '\\x99': '0b10110110',\n",
       " '\\x9c': '0b111010001',\n",
       " '\\x9d': '0b111010000',\n",
       " '\\xb7': '0b11101100011',\n",
       " '\\xc2': '0b11101100101',\n",
       " '\\xe2': '0b1110101'}"
      ]
     },
     "execution_count": 247,
     "metadata": {},
     "output_type": "execute_result"
    }
   ],
   "source": [
    "huffmanCoding"
   ]
  },
  {
   "cell_type": "code",
   "execution_count": 345,
   "metadata": {
    "collapsed": false
   },
   "outputs": [],
   "source": [
    "def compress_string_to_stream(uncompressed, huffmanCoding):\n",
    "    stream = BitStream()\n",
    "    for symbol in uncompressed:\n",
    "        coding = BitArray(huffmanCoding[symbol])\n",
    "        # Convert coding into a sequence of binary values\n",
    "        # We want to just shove the bits into a stream without any padding\n",
    "        stream.append(coding)\n",
    "    return stream"
   ]
  },
  {
   "cell_type": "code",
   "execution_count": null,
   "metadata": {
    "collapsed": false
   },
   "outputs": [],
   "source": []
  },
  {
   "cell_type": "code",
   "execution_count": 376,
   "metadata": {
    "collapsed": false
   },
   "outputs": [
    {
     "name": "stdout",
     "output_type": "stream",
     "text": [
      "Writing header...\n",
      "symbolCount: 77\n",
      "dataBitCount: 21980\n",
      "Wrote header of length 1950\n",
      "0x0000004d8007ee140e99082fa5ca05f649908b6980c9286e0439d09e84e04f44842e489001e240bec45a17d28b01fc9703a1310ab54c02a4b320ab74d42fb01a063acdb85f63360b9247219252701925474192567e18eb08213d3430893c20beca8a156e2204dad1c31d6d1829d74908ed480ae912c25009417d85342a...\n"
     ]
    }
   ],
   "source": [
    "def write_string_to_compressed_file(string, coding):\n",
    "    compressedStream = compress_string_to_stream(string, coding)\n",
    "    headerStream = create_header_bitstream(len(compressedStream), coding)\n",
    "    compressedFile = open('compressed.dat', 'wb')\n",
    "    headerStream.tofile(compressedFile)\n",
    "    compressedStream.tofile(compressedFile)\n",
    "    compressedFile.close()\n",
    "    \n",
    "def create_header_bitstream(compressedStreamBitCount, coding):\n",
    "    headerStream = BitStream()\n",
    "    print \"Writing header...\"\n",
    "    # Header format:\n",
    "    # 32 bytes: Symbol count\n",
    "    # 32 bytes: Symbol n\n",
    "    # 32 bytes: Code bit length\n",
    "    # 32 bytes: Code of n-bits padded with 0's\n",
    "    # ...\n",
    "    # 32 bytes: Coded data bit count\n",
    "    # Coded, unpadded data of specifed length padded at end with 0's\n",
    "    headerStream.append(BitArray(uint=len(coding), length=32))\n",
    "    print \"symbolCount: {}\".format(len(coding))\n",
    "    for symbol, code in coding.items():\n",
    "        headerStream.append(BitArray(bytes=symbol, length=8))\n",
    "        bitcount = len(code) - 2\n",
    "        headerStream.append(BitArray(uint=bitcount, length=8))\n",
    "        headerStream.append(BitArray(bin=code))\n",
    "    headerStream.append(BitArray(uint=compressedStreamBitCount, length=32))\n",
    "    print \"dataBitCount: {}\".format(compressedStreamBitCount)\n",
    "    print \"Wrote header of length {}\".format(len(headerStream))\n",
    "    print headerStream\n",
    "    return headerStream\n",
    "\n",
    "def read_header_bitstream(stream):\n",
    "    coding = {}\n",
    "    print \"Reading header...\"\n",
    "    symbolCount = stream.read(32).uint\n",
    "    print \"symbolCount: {}\".format(symbolCount)\n",
    "    for i in range(0, symbolCount):\n",
    "        symbol = stream.read(8).bytes\n",
    "        bitCount = stream.read(8).uint\n",
    "        code = stream.read(bitCount).bin\n",
    "        coding[symbol] = '0b' + code\n",
    "    dataBitCount = stream.read(32).uint\n",
    "    print \"dataBitCount: {}\".format(dataBitCount)\n",
    "    print \"Read header of length {}\".format(stream.pos)\n",
    "    headerSize = stream.pos\n",
    "    return (coding, dataBitCount, headerSize)\n",
    "\n",
    "write_string_to_compressed_file(uncompressedString, huffmanCoding)"
   ]
  },
  {
   "cell_type": "code",
   "execution_count": 385,
   "metadata": {
    "collapsed": false
   },
   "outputs": [],
   "source": [
    "def decompress_string_from_file(file):\n",
    "    compressedStream = ConstBitStream(filename=file)\n",
    "    coding, dataBitCount, headerSize = read_header_bitstream(compressedStream)\n",
    "    # Align to the next byte because the header was written using ByteStream.tofile, which pads to the nearest byte\n",
    "    compressedStream.bytealign()\n",
    "    reverseCoding = {v: k for k, v in coding.items()}\n",
    "    result = ''\n",
    "    binaryStringPrefix = '0b'\n",
    "    code = binaryStringPrefix\n",
    "    # read up until bitpos is 1 less than the stream length. We don't\n",
    "    # want to read when it's in the last position because that's the end of the stream\n",
    "    print \"compressedStream.bitpos {}\".format(compressedStream.bitpos)\n",
    "    while compressedStream.bitpos < dataBitCount + headerSize:\n",
    "        code += compressedStream.read('bin:1')[0]\n",
    "        if reverseCoding.has_key(code):\n",
    "            # Found our coding, insert the symbol\n",
    "            result += reverseCoding[code]\n",
    "            code = binaryStringPrefix\n",
    "\n",
    "    return result"
   ]
  },
  {
   "cell_type": "code",
   "execution_count": 383,
   "metadata": {
    "collapsed": false
   },
   "outputs": [
    {
     "name": "stdout",
     "output_type": "stream",
     "text": [
      "Reading header...\n",
      "symbolCount: 77\n",
      "dataBitCount: 21980\n",
      "Read header of length 1950\n",
      "compressedStream.bitpos 1952\n"
     ]
    }
   ],
   "source": [
    "decompressedString = decompress_string_from_file('compressed.dat')\n",
    "# Note: the data written to the file ends up being padded, so the file read back\n",
    "# will likely contain more bits than the original encoded data. The fix is some sort\n",
    "# of file format that specifies the length of the compressed data. The encoding also\n",
    "# needs to be stored in the file."
   ]
  },
  {
   "cell_type": "code",
   "execution_count": 384,
   "metadata": {
    "collapsed": true
   },
   "outputs": [],
   "source": [
    "decompressedFile = open('decompressed.txt', 'w')\n",
    "decompressedFile.write(decompressedString)\n",
    "decompressedFile.close()"
   ]
  },
  {
   "cell_type": "code",
   "execution_count": null,
   "metadata": {
    "collapsed": true
   },
   "outputs": [],
   "source": []
  }
 ],
 "metadata": {
  "kernelspec": {
   "display_name": "Python 2",
   "language": "python",
   "name": "python2"
  },
  "language_info": {
   "codemirror_mode": {
    "name": "ipython",
    "version": 2
   },
   "file_extension": ".py",
   "mimetype": "text/x-python",
   "name": "python",
   "nbconvert_exporter": "python",
   "pygments_lexer": "ipython2",
   "version": "2.7.10"
  }
 },
 "nbformat": 4,
 "nbformat_minor": 0
}
